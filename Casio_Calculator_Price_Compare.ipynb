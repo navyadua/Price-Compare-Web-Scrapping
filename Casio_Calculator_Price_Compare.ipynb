{
 "cells": [
  {
   "cell_type": "markdown",
   "id": "b27fd43a",
   "metadata": {},
   "source": [
    "# Web Scrapping using Python\n",
    "## Comparing Product Prices. \n",
    "#### Here we have taken Casio MJ 12D Calculator"
   ]
  },
  {
   "cell_type": "markdown",
   "id": "fff7fd25",
   "metadata": {},
   "source": [
    "### Importing the required Libraries"
   ]
  },
  {
   "cell_type": "code",
   "execution_count": 1,
   "id": "18b7d83f",
   "metadata": {},
   "outputs": [],
   "source": [
    "import requests\n",
    "from bs4 import BeautifulSoup #For web scraping"
   ]
  },
  {
   "cell_type": "markdown",
   "id": "0cb67d9c",
   "metadata": {},
   "source": [
    "### Taking URL from Sites"
   ]
  },
  {
   "cell_type": "code",
   "execution_count": 2,
   "id": "07dea039",
   "metadata": {},
   "outputs": [],
   "source": [
    "amazon_url = \"https://www.amazon.in/dp/B0752LL57V/\""
   ]
  },
  {
   "cell_type": "code",
   "execution_count": 3,
   "id": "f3acc83d",
   "metadata": {},
   "outputs": [],
   "source": [
    "flipkart_url = \"https://www.flipkart.com/casio-mj-12d-bk-electronic-basic-calculator/p/itmeqq5f4guqfqkd\""
   ]
  },
  {
   "cell_type": "code",
   "execution_count": 4,
   "id": "3e8c8478",
   "metadata": {},
   "outputs": [],
   "source": [
    "moglix_url = \"https://www.moglix.com/casio-mj-120gst-12-digits-gst-calculator/mp/msn4k6zyd668kq\""
   ]
  },
  {
   "cell_type": "code",
   "execution_count": 5,
   "id": "530e54f8",
   "metadata": {},
   "outputs": [],
   "source": [
    "onshopdeals_url = \"https://onshopdeals.com/casio-mj-12d-150-steps-check-and-correct-desktop-calculator/\""
   ]
  },
  {
   "cell_type": "code",
   "execution_count": 6,
   "id": "22a55b99",
   "metadata": {},
   "outputs": [],
   "source": [
    "stamo_url = \"https://www.statmo.in/product/casio-mj-120gst-calculator/\""
   ]
  },
  {
   "cell_type": "markdown",
   "id": "17da49a9",
   "metadata": {},
   "source": [
    "To get  user-agent , google my user agent"
   ]
  },
  {
   "cell_type": "code",
   "execution_count": 7,
   "id": "f2830f50",
   "metadata": {},
   "outputs": [],
   "source": [
    "headers = {\"user-agent\":'Mozilla/5.0 (Windows NT 10.0; Win64; x64) AppleWebKit/537.36 (KHTML, like Gecko) Chrome/97.0.4692.99 Safari/537.36/8mqMlPuL-96'}"
   ]
  },
  {
   "cell_type": "markdown",
   "id": "8685518d",
   "metadata": {},
   "source": [
    "### Amazon"
   ]
  },
  {
   "cell_type": "code",
   "execution_count": 8,
   "id": "188201e7",
   "metadata": {},
   "outputs": [],
   "source": [
    "page = requests.get(url=amazon_url, headers=headers) \n",
    "soup = BeautifulSoup(page.content,\"html.parser\") "
   ]
  },
  {
   "cell_type": "markdown",
   "id": "8cebc4d7",
   "metadata": {},
   "source": [
    "Now go to the Amazon page, right-click on the product price, and inspect, and find the element with id/class. Replace the element name and id accordingly. (Example : price = soup.find('div', id = \"ProductPrice\")"
   ]
  },
  {
   "cell_type": "code",
   "execution_count": 9,
   "id": "9f69621b",
   "metadata": {},
   "outputs": [
    {
     "name": "stdout",
     "output_type": "stream",
     "text": [
      "418\n"
     ]
    }
   ],
   "source": [
    "price = soup.find('span', class_ = \"a-offscreen\")\n",
    "amazon_price = int(float(((price.get_text()).strip()).replace(\"₹\" , \"\")))\n",
    "print(amazon_price)"
   ]
  },
  {
   "cell_type": "markdown",
   "id": "7ab2cb91",
   "metadata": {},
   "source": [
    "#### Step by step to scrape out Price from tags"
   ]
  },
  {
   "cell_type": "code",
   "execution_count": 10,
   "id": "de6c235d",
   "metadata": {},
   "outputs": [
    {
     "data": {
      "text/plain": [
       "'₹418.00'"
      ]
     },
     "execution_count": 10,
     "metadata": {},
     "output_type": "execute_result"
    }
   ],
   "source": [
    "price.get_text() #.get_Text() - Will get text from html tags"
   ]
  },
  {
   "cell_type": "code",
   "execution_count": 11,
   "id": "accdb067",
   "metadata": {},
   "outputs": [
    {
     "data": {
      "text/plain": [
       "'₹418.00'"
      ]
     },
     "execution_count": 11,
     "metadata": {},
     "output_type": "execute_result"
    }
   ],
   "source": [
    "(price.get_text()).strip() #.strip() - Removing special characters like \\n (newline)"
   ]
  },
  {
   "cell_type": "code",
   "execution_count": 12,
   "id": "2e44b034",
   "metadata": {},
   "outputs": [
    {
     "data": {
      "text/plain": [
       "'418.00'"
      ]
     },
     "execution_count": 12,
     "metadata": {},
     "output_type": "execute_result"
    }
   ],
   "source": [
    "((price.get_text()).strip()).replace(\"₹\" , \"\") #.replace() - Removes the ₹ symbol from the string"
   ]
  },
  {
   "cell_type": "code",
   "execution_count": 13,
   "id": "f3a099ae",
   "metadata": {},
   "outputs": [
    {
     "data": {
      "text/plain": [
       "418.0"
      ]
     },
     "execution_count": 13,
     "metadata": {},
     "output_type": "execute_result"
    }
   ],
   "source": [
    "float(((price.get_text()).strip()).replace(\"₹\" , \"\")) #int() / float() - Converts the string to respective datatype"
   ]
  },
  {
   "cell_type": "markdown",
   "id": "a26b9cd3",
   "metadata": {},
   "source": [
    "#### Similarly , following the same steps , we will scrape out prices from rest of the websites."
   ]
  },
  {
   "cell_type": "markdown",
   "id": "3a511f82",
   "metadata": {},
   "source": [
    "### Flipkart"
   ]
  },
  {
   "cell_type": "code",
   "execution_count": 14,
   "id": "d8bb87b6",
   "metadata": {},
   "outputs": [],
   "source": [
    "page = requests.get(url=flipkart_url, headers=headers) \n",
    "soup = BeautifulSoup(page.content,'html.parser') "
   ]
  },
  {
   "cell_type": "code",
   "execution_count": 15,
   "id": "610e9537",
   "metadata": {},
   "outputs": [
    {
     "name": "stdout",
     "output_type": "stream",
     "text": [
      "418\n"
     ]
    }
   ],
   "source": [
    "price = soup.find('div',class_ = \"_30jeq3 _16Jk6d\")\n",
    "flipkart_price = int(((price.get_text()).strip()).replace(\"₹\" , \"\"))\n",
    "print(flipkart_price)"
   ]
  },
  {
   "cell_type": "markdown",
   "id": "5e7ebf24",
   "metadata": {},
   "source": [
    "### Moglix"
   ]
  },
  {
   "cell_type": "code",
   "execution_count": 16,
   "id": "3e44f9fd",
   "metadata": {},
   "outputs": [],
   "source": [
    "page = requests.get(url=moglix_url, headers=headers) \n",
    "soup = BeautifulSoup(page.content,'html.parser') "
   ]
  },
  {
   "cell_type": "code",
   "execution_count": 17,
   "id": "f66b8b50",
   "metadata": {},
   "outputs": [
    {
     "name": "stdout",
     "output_type": "stream",
     "text": [
      "439\n"
     ]
    }
   ],
   "source": [
    "price = soup.find('span',class_ = \"f-left inline-block f-size-28 text-black pad-r-10 f-size-xs-22 text-500\")\n",
    "moglix_price = int(((price.get_text()).strip()).replace(\"₹\" , \"\"))\n",
    "print(moglix_price )"
   ]
  },
  {
   "cell_type": "markdown",
   "id": "b7d09709",
   "metadata": {},
   "source": [
    "### On Shop Deals"
   ]
  },
  {
   "cell_type": "code",
   "execution_count": 18,
   "id": "0ef34874",
   "metadata": {},
   "outputs": [],
   "source": [
    "page = requests.get(url=onshopdeals_url, headers=headers) \n",
    "soup = BeautifulSoup(page.content,'html.parser') "
   ]
  },
  {
   "cell_type": "code",
   "execution_count": 19,
   "id": "82801e0d",
   "metadata": {},
   "outputs": [
    {
     "name": "stdout",
     "output_type": "stream",
     "text": [
      "329\n"
     ]
    }
   ],
   "source": [
    "price = soup.find('span',class_ = \"price price--withTax price--main\")\n",
    "onshop_price = int(((price.get_text()).strip()).replace(\"₹\" , \"\"))\n",
    "print(onshop_price )"
   ]
  },
  {
   "cell_type": "markdown",
   "id": "f8adf6f6",
   "metadata": {},
   "source": [
    "### Stamo"
   ]
  },
  {
   "cell_type": "code",
   "execution_count": 20,
   "id": "4cfa2e83",
   "metadata": {},
   "outputs": [],
   "source": [
    "page = requests.get(url=stamo_url, headers=headers) \n",
    "soup = BeautifulSoup(page.content,'html.parser') "
   ]
  },
  {
   "cell_type": "code",
   "execution_count": 21,
   "id": "6c2fcc0c",
   "metadata": {},
   "outputs": [
    {
     "name": "stdout",
     "output_type": "stream",
     "text": [
      "495\n"
     ]
    }
   ],
   "source": [
    "price = soup.find('span',class_ = \"woocommerce-Price-amount amount\")\n",
    "stamo_price = int(((price.get_text()).strip()).replace(\"₹\" , \"\"))\n",
    "print(stamo_price )"
   ]
  },
  {
   "cell_type": "markdown",
   "id": "260e56a8",
   "metadata": {},
   "source": [
    "## Analysis of Results"
   ]
  },
  {
   "cell_type": "markdown",
   "id": "06c2d031",
   "metadata": {},
   "source": [
    "Pandas is a python library used to analyze data. We will be using pandas to represent our findings in a formatted way and analyzing through it."
   ]
  },
  {
   "cell_type": "code",
   "execution_count": 22,
   "id": "1fbe3e8f",
   "metadata": {},
   "outputs": [],
   "source": [
    "import pandas as pd"
   ]
  },
  {
   "cell_type": "code",
   "execution_count": 23,
   "id": "bf27052c",
   "metadata": {},
   "outputs": [],
   "source": [
    "website_list = ['Amazon' , 'Flipkart' , 'Moglix' , 'On Shop Deals' , 'Stamo']\n",
    "price_list = [amazon_price , flipkart_price , moglix_price , onshop_price , stamo_price]\n",
    "url_list = [amazon_url,flipkart_url,moglix_url,onshopdeals_url,stamo_url]\n",
    "#Creating lists for each of the details for further processing"
   ]
  },
  {
   "cell_type": "markdown",
   "id": "779eafde",
   "metadata": {},
   "source": [
    "Now we will create a DataFrame out of the data we have extracted"
   ]
  },
  {
   "cell_type": "code",
   "execution_count": 24,
   "id": "e897e333",
   "metadata": {},
   "outputs": [
    {
     "data": {
      "text/html": [
       "<div>\n",
       "<style scoped>\n",
       "    .dataframe tbody tr th:only-of-type {\n",
       "        vertical-align: middle;\n",
       "    }\n",
       "\n",
       "    .dataframe tbody tr th {\n",
       "        vertical-align: top;\n",
       "    }\n",
       "\n",
       "    .dataframe thead th {\n",
       "        text-align: right;\n",
       "    }\n",
       "</style>\n",
       "<table border=\"1\" class=\"dataframe\">\n",
       "  <thead>\n",
       "    <tr style=\"text-align: right;\">\n",
       "      <th></th>\n",
       "      <th>Price</th>\n",
       "      <th>URL</th>\n",
       "    </tr>\n",
       "    <tr>\n",
       "      <th>Website</th>\n",
       "      <th></th>\n",
       "      <th></th>\n",
       "    </tr>\n",
       "  </thead>\n",
       "  <tbody>\n",
       "    <tr>\n",
       "      <th>Amazon</th>\n",
       "      <td>418</td>\n",
       "      <td>https://www.amazon.in/Casio-MJ-12D-Desktop-Cal...</td>\n",
       "    </tr>\n",
       "    <tr>\n",
       "      <th>Flipkart</th>\n",
       "      <td>418</td>\n",
       "      <td>https://www.flipkart.com/casio-mj-12d-bk-deskt...</td>\n",
       "    </tr>\n",
       "    <tr>\n",
       "      <th>Moglix</th>\n",
       "      <td>439</td>\n",
       "      <td>https://www.moglix.com/casio-mj-120gst-12-digi...</td>\n",
       "    </tr>\n",
       "    <tr>\n",
       "      <th>On Shop Deals</th>\n",
       "      <td>329</td>\n",
       "      <td>https://onshopdeals.com/casio-mj-12d-150-steps...</td>\n",
       "    </tr>\n",
       "    <tr>\n",
       "      <th>Stamo</th>\n",
       "      <td>495</td>\n",
       "      <td>https://www.statmo.in/product/casio-mj-120gst-...</td>\n",
       "    </tr>\n",
       "  </tbody>\n",
       "</table>\n",
       "</div>"
      ],
      "text/plain": [
       "               Price                                                URL\n",
       "Website                                                                \n",
       "Amazon           418  https://www.amazon.in/Casio-MJ-12D-Desktop-Cal...\n",
       "Flipkart         418  https://www.flipkart.com/casio-mj-12d-bk-deskt...\n",
       "Moglix           439  https://www.moglix.com/casio-mj-120gst-12-digi...\n",
       "On Shop Deals    329  https://onshopdeals.com/casio-mj-12d-150-steps...\n",
       "Stamo            495  https://www.statmo.in/product/casio-mj-120gst-..."
      ]
     },
     "execution_count": 24,
     "metadata": {},
     "output_type": "execute_result"
    }
   ],
   "source": [
    "data = pd.DataFrame({\"Website\" :website_list , \"Price\" : price_list , \"URL\" : url_list})\n",
    "data = data.set_index(\"Website\")\n",
    "data"
   ]
  },
  {
   "cell_type": "markdown",
   "id": "47ec2691",
   "metadata": {},
   "source": [
    "To find the best price out of our findings , we will use the functions"
   ]
  },
  {
   "cell_type": "code",
   "execution_count": 25,
   "id": "0549fc31",
   "metadata": {},
   "outputs": [
    {
     "data": {
      "text/plain": [
       "329"
      ]
     },
     "execution_count": 25,
     "metadata": {},
     "output_type": "execute_result"
    }
   ],
   "source": [
    "data.Price.min() #will print the minimum value from the Price column from the dataframe"
   ]
  },
  {
   "cell_type": "code",
   "execution_count": 26,
   "id": "24645e0c",
   "metadata": {},
   "outputs": [
    {
     "data": {
      "text/plain": [
       "Website\n",
       "Amazon           False\n",
       "Flipkart         False\n",
       "Moglix           False\n",
       "On Shop Deals     True\n",
       "Stamo            False\n",
       "Name: Price, dtype: bool"
      ]
     },
     "execution_count": 26,
     "metadata": {},
     "output_type": "execute_result"
    }
   ],
   "source": [
    "data.Price == data.Price.min() #will print True False accordingly if the minimum value matches the Price in the column."
   ]
  },
  {
   "cell_type": "code",
   "execution_count": 27,
   "id": "0bdc4269",
   "metadata": {},
   "outputs": [
    {
     "data": {
      "text/html": [
       "<div>\n",
       "<style scoped>\n",
       "    .dataframe tbody tr th:only-of-type {\n",
       "        vertical-align: middle;\n",
       "    }\n",
       "\n",
       "    .dataframe tbody tr th {\n",
       "        vertical-align: top;\n",
       "    }\n",
       "\n",
       "    .dataframe thead th {\n",
       "        text-align: right;\n",
       "    }\n",
       "</style>\n",
       "<table border=\"1\" class=\"dataframe\">\n",
       "  <thead>\n",
       "    <tr style=\"text-align: right;\">\n",
       "      <th></th>\n",
       "      <th>Price</th>\n",
       "      <th>URL</th>\n",
       "    </tr>\n",
       "    <tr>\n",
       "      <th>Website</th>\n",
       "      <th></th>\n",
       "      <th></th>\n",
       "    </tr>\n",
       "  </thead>\n",
       "  <tbody>\n",
       "    <tr>\n",
       "      <th>On Shop Deals</th>\n",
       "      <td>329</td>\n",
       "      <td>https://onshopdeals.com/casio-mj-12d-150-steps...</td>\n",
       "    </tr>\n",
       "  </tbody>\n",
       "</table>\n",
       "</div>"
      ],
      "text/plain": [
       "               Price                                                URL\n",
       "Website                                                                \n",
       "On Shop Deals    329  https://onshopdeals.com/casio-mj-12d-150-steps..."
      ]
     },
     "execution_count": 27,
     "metadata": {},
     "output_type": "execute_result"
    }
   ],
   "source": [
    "data[data.Price == data.Price.min()] #will print the row from the dataset wherever the value is true"
   ]
  },
  {
   "cell_type": "markdown",
   "id": "edb2951f",
   "metadata": {},
   "source": [
    "Hence, the website with the minimum price is displayed."
   ]
  },
  {
   "cell_type": "markdown",
   "id": "0c0f12f2",
   "metadata": {},
   "source": [
    "## Visualising the Results"
   ]
  },
  {
   "cell_type": "code",
   "execution_count": 28,
   "id": "4dd29d86",
   "metadata": {},
   "outputs": [
    {
     "data": {
      "text/plain": [
       "<AxesSubplot:xlabel='Website'>"
      ]
     },
     "execution_count": 28,
     "metadata": {},
     "output_type": "execute_result"
    },
    {
     "data": {
      "image/png": "[encoded data removed]",
      "text/plain": [
       "<Figure size 432x288 with 1 Axes>"
      ]
     },
     "metadata": {
      "needs_background": "light"
     },
     "output_type": "display_data"
    }
   ],
   "source": [
    "data.plot.bar()"
   ]
  },
  {
   "cell_type": "markdown",
   "id": "6861cace",
   "metadata": {},
   "source": [
    "From the above bar-chart , we may see that On Shop Deals is having the least price"
   ]
  }
 ],
 "metadata": {
  "kernelspec": {
   "display_name": "Python 3 (ipykernel)",
   "language": "python",
   "name": "python3"
  },
  "language_info": {
   "codemirror_mode": {
    "name": "ipython",
    "version": 3
   },
   "file_extension": ".py",
   "mimetype": "text/x-python",
   "name": "python",
   "nbconvert_exporter": "python",
   "pygments_lexer": "ipython3",
   "version": "3.9.7"
  }
 },
 "nbformat": 4,
 "nbformat_minor": 5
}
